{
 "cells": [
  {
   "cell_type": "markdown",
   "metadata": {
    "pycharm": {
     "name": "#%% md\n"
    }
   },
   "source": [
    "# MNIST Classification\n",
    "Inspired by https://www.kaggle.com/ashwani07/mnist-classification-using-random-forest"
   ]
  },
  {
   "cell_type": "code",
   "execution_count": 1,
   "metadata": {},
   "outputs": [],
   "source": [
    "from pathlib import Path\n",
    "\n",
    "import matplotlib.pyplot as plt  #Graphics\n",
    "import numpy as np\n",
    "import pandas as pd\n",
    "import requests\n",
    "import warnings\n",
    "import seaborn as sns\n",
    "from sklearn import svm\n",
    "from pprint import pprint\n",
    "from sklearn.decomposition import PCA\n",
    "from sklearn.model_selection import KFold,cross_val_score,StratifiedShuffleSplit\n",
    "from sklearn.ensemble import RandomForestClassifier\n",
    "from sklearn.feature_selection import SelectKBest, chi2\n",
    "from sklearn.linear_model import LogisticRegression\n",
    "from sklearn.metrics import classification_report, confusion_matrix, accuracy_score, f1_score, precision_score, recall_score, make_scorer\n",
    "from sklearn.model_selection import train_test_split, GridSearchCV\n",
    "from sklearn.neighbors import KNeighborsClassifier\n",
    "from sklearn.preprocessing import MinMaxScaler\n",
    "#To show graphs within the notebook\n",
    "%matplotlib inline\n",
    "warnings.filterwarnings('ignore')\n"
   ]
  },
  {
   "cell_type": "markdown",
   "metadata": {},
   "source": [
    "## Download Dataset"
   ]
  },
  {
   "cell_type": "code",
   "execution_count": 2,
   "metadata": {},
   "outputs": [
    {
     "name": "stdout",
     "output_type": "stream",
     "text": [
      "Dataset exists\n"
     ]
    }
   ],
   "source": [
    "mnist_file = 'mnist.csv'\n",
    "mnist_file_path = Path(mnist_file)\n",
    "if not mnist_file_path.is_file():\n",
    "    # file exists\n",
    "    print('Dataset does not exist. Downloading...')\n",
    "    csv_url = 'https://raw.githubusercontent.com/MSc-in-Data-Science/class_material/master/semester_1/Machine_Learning/datasets/digit_recognizer_dataset.csv'\n",
    "    req = requests.get(csv_url)\n",
    "    url_content = req.content\n",
    "    csv_file = open('mnist.csv', 'wb')\n",
    "    csv_file.write(url_content)\n",
    "    csv_file.close()\n",
    "    print('Dataset Downloaded')\n",
    "else:\n",
    "    print('Dataset exists')"
   ]
  },
  {
   "cell_type": "code",
   "execution_count": 3,
   "metadata": {},
   "outputs": [
    {
     "name": "stdout",
     "output_type": "stream",
     "text": [
      "Training dataset has 42000 observations and 784 variables\n"
     ]
    }
   ],
   "source": [
    "#load the datasets\n",
    "train = pd.read_csv(\"mnist.csv\").astype('uint8')\n",
    "print (\"Training dataset has %i observations and %i variables\" %(train.shape[0], train.shape[1]-1))"
   ]
  },
  {
   "cell_type": "code",
   "execution_count": 4,
   "metadata": {},
   "outputs": [
    {
     "data": {
      "text/html": [
       "<div>\n",
       "<style scoped>\n",
       "    .dataframe tbody tr th:only-of-type {\n",
       "        vertical-align: middle;\n",
       "    }\n",
       "\n",
       "    .dataframe tbody tr th {\n",
       "        vertical-align: top;\n",
       "    }\n",
       "\n",
       "    .dataframe thead th {\n",
       "        text-align: right;\n",
       "    }\n",
       "</style>\n",
       "<table border=\"1\" class=\"dataframe\">\n",
       "  <thead>\n",
       "    <tr style=\"text-align: right;\">\n",
       "      <th></th>\n",
       "      <th>label</th>\n",
       "      <th>pixel0</th>\n",
       "      <th>pixel1</th>\n",
       "      <th>pixel2</th>\n",
       "      <th>pixel3</th>\n",
       "      <th>pixel4</th>\n",
       "      <th>pixel5</th>\n",
       "      <th>pixel6</th>\n",
       "      <th>pixel7</th>\n",
       "      <th>pixel8</th>\n",
       "      <th>...</th>\n",
       "      <th>pixel774</th>\n",
       "      <th>pixel775</th>\n",
       "      <th>pixel776</th>\n",
       "      <th>pixel777</th>\n",
       "      <th>pixel778</th>\n",
       "      <th>pixel779</th>\n",
       "      <th>pixel780</th>\n",
       "      <th>pixel781</th>\n",
       "      <th>pixel782</th>\n",
       "      <th>pixel783</th>\n",
       "    </tr>\n",
       "  </thead>\n",
       "  <tbody>\n",
       "    <tr>\n",
       "      <th>0</th>\n",
       "      <td>1</td>\n",
       "      <td>0</td>\n",
       "      <td>0</td>\n",
       "      <td>0</td>\n",
       "      <td>0</td>\n",
       "      <td>0</td>\n",
       "      <td>0</td>\n",
       "      <td>0</td>\n",
       "      <td>0</td>\n",
       "      <td>0</td>\n",
       "      <td>...</td>\n",
       "      <td>0</td>\n",
       "      <td>0</td>\n",
       "      <td>0</td>\n",
       "      <td>0</td>\n",
       "      <td>0</td>\n",
       "      <td>0</td>\n",
       "      <td>0</td>\n",
       "      <td>0</td>\n",
       "      <td>0</td>\n",
       "      <td>0</td>\n",
       "    </tr>\n",
       "    <tr>\n",
       "      <th>1</th>\n",
       "      <td>0</td>\n",
       "      <td>0</td>\n",
       "      <td>0</td>\n",
       "      <td>0</td>\n",
       "      <td>0</td>\n",
       "      <td>0</td>\n",
       "      <td>0</td>\n",
       "      <td>0</td>\n",
       "      <td>0</td>\n",
       "      <td>0</td>\n",
       "      <td>...</td>\n",
       "      <td>0</td>\n",
       "      <td>0</td>\n",
       "      <td>0</td>\n",
       "      <td>0</td>\n",
       "      <td>0</td>\n",
       "      <td>0</td>\n",
       "      <td>0</td>\n",
       "      <td>0</td>\n",
       "      <td>0</td>\n",
       "      <td>0</td>\n",
       "    </tr>\n",
       "    <tr>\n",
       "      <th>2</th>\n",
       "      <td>1</td>\n",
       "      <td>0</td>\n",
       "      <td>0</td>\n",
       "      <td>0</td>\n",
       "      <td>0</td>\n",
       "      <td>0</td>\n",
       "      <td>0</td>\n",
       "      <td>0</td>\n",
       "      <td>0</td>\n",
       "      <td>0</td>\n",
       "      <td>...</td>\n",
       "      <td>0</td>\n",
       "      <td>0</td>\n",
       "      <td>0</td>\n",
       "      <td>0</td>\n",
       "      <td>0</td>\n",
       "      <td>0</td>\n",
       "      <td>0</td>\n",
       "      <td>0</td>\n",
       "      <td>0</td>\n",
       "      <td>0</td>\n",
       "    </tr>\n",
       "    <tr>\n",
       "      <th>3</th>\n",
       "      <td>4</td>\n",
       "      <td>0</td>\n",
       "      <td>0</td>\n",
       "      <td>0</td>\n",
       "      <td>0</td>\n",
       "      <td>0</td>\n",
       "      <td>0</td>\n",
       "      <td>0</td>\n",
       "      <td>0</td>\n",
       "      <td>0</td>\n",
       "      <td>...</td>\n",
       "      <td>0</td>\n",
       "      <td>0</td>\n",
       "      <td>0</td>\n",
       "      <td>0</td>\n",
       "      <td>0</td>\n",
       "      <td>0</td>\n",
       "      <td>0</td>\n",
       "      <td>0</td>\n",
       "      <td>0</td>\n",
       "      <td>0</td>\n",
       "    </tr>\n",
       "    <tr>\n",
       "      <th>4</th>\n",
       "      <td>0</td>\n",
       "      <td>0</td>\n",
       "      <td>0</td>\n",
       "      <td>0</td>\n",
       "      <td>0</td>\n",
       "      <td>0</td>\n",
       "      <td>0</td>\n",
       "      <td>0</td>\n",
       "      <td>0</td>\n",
       "      <td>0</td>\n",
       "      <td>...</td>\n",
       "      <td>0</td>\n",
       "      <td>0</td>\n",
       "      <td>0</td>\n",
       "      <td>0</td>\n",
       "      <td>0</td>\n",
       "      <td>0</td>\n",
       "      <td>0</td>\n",
       "      <td>0</td>\n",
       "      <td>0</td>\n",
       "      <td>0</td>\n",
       "    </tr>\n",
       "  </tbody>\n",
       "</table>\n",
       "<p>5 rows × 785 columns</p>\n",
       "</div>"
      ],
      "text/plain": [
       "   label  pixel0  pixel1  pixel2  pixel3  pixel4  pixel5  pixel6  pixel7  \\\n",
       "0      1       0       0       0       0       0       0       0       0   \n",
       "1      0       0       0       0       0       0       0       0       0   \n",
       "2      1       0       0       0       0       0       0       0       0   \n",
       "3      4       0       0       0       0       0       0       0       0   \n",
       "4      0       0       0       0       0       0       0       0       0   \n",
       "\n",
       "   pixel8  ...  pixel774  pixel775  pixel776  pixel777  pixel778  pixel779  \\\n",
       "0       0  ...         0         0         0         0         0         0   \n",
       "1       0  ...         0         0         0         0         0         0   \n",
       "2       0  ...         0         0         0         0         0         0   \n",
       "3       0  ...         0         0         0         0         0         0   \n",
       "4       0  ...         0         0         0         0         0         0   \n",
       "\n",
       "   pixel780  pixel781  pixel782  pixel783  \n",
       "0         0         0         0         0  \n",
       "1         0         0         0         0  \n",
       "2         0         0         0         0  \n",
       "3         0         0         0         0  \n",
       "4         0         0         0         0  \n",
       "\n",
       "[5 rows x 785 columns]"
      ]
     },
     "execution_count": 4,
     "metadata": {},
     "output_type": "execute_result"
    }
   ],
   "source": [
    "#check few rows\n",
    "train.head()"
   ]
  },
  {
   "cell_type": "code",
   "execution_count": 5,
   "metadata": {},
   "outputs": [],
   "source": [
    "#Seperate the target and independant variables\n",
    "df_x=train.iloc[:,1:]\n",
    "df_y=train.iloc[:,0]"
   ]
  },
  {
   "cell_type": "code",
   "execution_count": 6,
   "metadata": {},
   "outputs": [],
   "source": [
    "def print_image(row, df):\n",
    "    temp=df.iloc[row,:].values\n",
    "    temp = temp.reshape(28,28).astype('uint8')\n",
    "    plt.imshow(temp)"
   ]
  },
  {
   "cell_type": "code",
   "execution_count": 7,
   "metadata": {},
   "outputs": [
    {
     "data": {
      "image/png": "[encoded data removed]",
      "text/plain": [
       "<Figure size 432x288 with 1 Axes>"
      ]
     },
     "metadata": {
      "needs_background": "light"
     },
     "output_type": "display_data"
    }
   ],
   "source": [
    "print_image(5, df_x)"
   ]
  },
  {
   "cell_type": "code",
   "execution_count": 8,
   "metadata": {},
   "outputs": [
    {
     "data": {
      "text/plain": [
       "0    4132\n",
       "1    4684\n",
       "2    4177\n",
       "3    4351\n",
       "4    4072\n",
       "5    3795\n",
       "6    4137\n",
       "7    4401\n",
       "8    4063\n",
       "9    4188\n",
       "Name: label, dtype: int64"
      ]
     },
     "execution_count": 8,
     "metadata": {},
     "output_type": "execute_result"
    },
    {
     "data": {
      "image/png": "[encoded data removed]",
      "text/plain": [
       "<Figure size 432x288 with 1 Axes>"
      ]
     },
     "metadata": {
      "needs_background": "light"
     },
     "output_type": "display_data"
    }
   ],
   "source": [
    "#Check the frequency of each number\n",
    "sns.countplot(df_y)\n",
    "df_y.value_counts().sort_index()"
   ]
  },
  {
   "cell_type": "code",
   "execution_count": 9,
   "metadata": {},
   "outputs": [
    {
     "data": {
      "image/png": "[encoded data removed]",
      "text/plain": [
       "<Figure size 864x720 with 40 Axes>"
      ]
     },
     "metadata": {
      "needs_background": "light"
     },
     "output_type": "display_data"
    }
   ],
   "source": [
    "# Print some of the digits/images to inspect the dataset\n",
    "plt.figure(figsize=(12,10))\n",
    "for i in range(40):\n",
    "    plt.subplot(4, 10, i+1)\n",
    "    print_image(i, df_x)"
   ]
  },
  {
   "cell_type": "code",
   "execution_count": 10,
   "metadata": {},
   "outputs": [
    {
     "name": "stdout",
     "output_type": "stream",
     "text": [
      "(29400, 784)\n",
      "(12600, 784)\n"
     ]
    }
   ],
   "source": [
    "#Split the dataset\n",
    "\n",
    "X_train, X_test, y_train, y_test = train_test_split(df_x, df_y, test_size=0.3, random_state=42, stratify=df_y)\n",
    "print(X_train.shape)\n",
    "print(X_test.shape)"
   ]
  },
  {
   "cell_type": "code",
   "execution_count": 11,
   "metadata": {
    "pycharm": {
     "name": "#%%\n"
    }
   },
   "outputs": [],
   "source": [
    "def accuracy_per_class(target_test, pred):\n",
    "    matrix = confusion_matrix(target_test, pred)\n",
    "    acc_per_class = matrix.diagonal()/matrix.sum(axis=1)\n",
    "    acc_per_class_dict = {i:v for i,v in enumerate(acc_per_class)}\n",
    "    return acc_per_class_dict\n",
    "    \n",
    "\n",
    "def classification_report_for_cv(target_test, pred):\n",
    "    print (\"Classification Report\")\n",
    "    print(classification_report(target_test, pred))\n",
    "    return accuracy_score(target_test, pred)\n",
    "\n",
    "def general_classification_report(target_test, pred):\n",
    "    \"\"\"\n",
    "    General Classification Report\n",
    "    :param target_test: target test data\n",
    "    :param pred: the prediction of the classifier\n",
    "    \"\"\"\n",
    "    print (\"Classification Report\")\n",
    "    print(classification_report(target_test, pred))\n",
    "    print(\"Accuracy per class\")\n",
    "    pprint(accuracy_per_class(target_test, pred))\n",
    "    cmrforest = confusion_matrix(target_test , pred)\n",
    "    plt.figure(figsize=(10,7))\n",
    "    sns.heatmap(cmrforest ,annot=True , fmt = 'd')\n",
    "    plt.xlabel('Predicted')\n",
    "    plt.ylabel('Truth')\n",
    "    plt.title('Confusion Report')\n",
    "\n",
    "def perform_classification_with_grid_search(clf_name, data_train, data_test, target_train, target_test, cv=10):\n",
    "    \"\"\"\n",
    "    Function that uses several classifiers with parameter tuning\n",
    "    :param clf_name: Classifier name, can be Random Forest, SVM, kNN, Logistic Regression\n",
    "    :param data_train: train data\n",
    "    :param data_test: test data\n",
    "    :param target_train: target train data\n",
    "    :param target_test: target test data\n",
    "    :param cv: number of folds\n",
    "    :return: A dictionary with the best parameters\n",
    "    \"\"\"\n",
    "    if clf_name=='Random Forest':\n",
    "        param_grid = {\n",
    "            'n_estimators': [200],\n",
    "            'max_features': ['auto'],\n",
    "            'max_depth' : [4,5,6,7,8],\n",
    "            'criterion' :['gini', 'entropy']\n",
    "        }\n",
    "        clf = RandomForestClassifier(random_state=42)\n",
    "\n",
    "    elif clf_name=='SVM':\n",
    "        param_grid = {\n",
    "            'kernel': ['rbf'],\n",
    "            'gamma': [1e-3, 1e-4],\n",
    "            'C': [1, 10, 100, 1000]\n",
    "            }\n",
    "        clf = svm.SVC()\n",
    "\n",
    "    elif clf_name=='kNN':\n",
    "        param_grid = {'n_neighbors': range(1, 31)}\n",
    "        clf = KNeighborsClassifier()\n",
    "\n",
    "    elif clf_name=='Logistic Regression':\n",
    "        param_grid = {\"C\": np.logspace(-3,3,7),\n",
    "                      \"penalty\": [\"l1\",\"l2\"]}\n",
    "        clf = LogisticRegression()\n",
    "\n",
    "    else:\n",
    "        print('Provide one of the available classifiers: Random Forest, SVM, kNN, Logistic Regression')\n",
    "        return\n",
    "\n",
    "    cv_rfc = GridSearchCV(estimator=clf, param_grid=param_grid, cv=cv)\n",
    "    cv_rfc.fit(data_train, target_train)\n",
    "     # Viewing The Best Parameters\n",
    "    print('Best Parameters: ', cv_rfc.best_params_)\n",
    "    print('Best Accuracy Score Achieved in Grid Search: ', cv_rfc.best_score_)\n",
    "    best_estimator = cv_rfc.best_estimator_\n",
    "    # Predicting using the best estimator\n",
    "    best_estimator.fit(data_train, target_train)\n",
    "    pred=best_estimator.predict(data_test)\n",
    "    general_classification_report(target_test, pred)\n",
    "    best_estimator.score(data_test, target_test)\n",
    "\n",
    "def perform_classification(clf_name, data_train, data_test, target_train, target_test):\n",
    "    \"\"\"\n",
    "    Function that uses several classifiers\n",
    "    :param clf_name: Classifier name, can be Random Forest, SVM rbf, SVM linear, kNN, Logistic Regression\n",
    "    :param data_train: train data\n",
    "    :param data_test: test data\n",
    "    :param target_train: target train data\n",
    "    :param target_test: target test data\n",
    "    \"\"\"\n",
    "    if clf_name=='Random Forest':\n",
    "        clf=RandomForestClassifier(n_estimators=100)\n",
    "\n",
    "    elif clf_name=='SVM rbf':\n",
    "        clf = svm.SVC(kernel='rbf')\n",
    "\n",
    "    elif clf_name=='kNN':\n",
    "        clf = KNeighborsClassifier()\n",
    "\n",
    "    elif clf_name=='Logistic Regression':\n",
    "        clf = LogisticRegression()\n",
    "\n",
    "    else:\n",
    "        print('Provide one of the available classifiers: Random Forest, SVM, kNN, Logistic Regression')\n",
    "        return\n",
    "\n",
    "    clf.fit(data_train, target_train)\n",
    "    pred=clf.predict(data_test)\n",
    "    general_classification_report(target_test, pred)\n",
    "#     clf.score(data_test,  target_test)\n",
    "\n",
    "def perform_classification_with_cv(clf_name, X, y):\n",
    "    \"\"\"\n",
    "    Function that uses several classifiers\n",
    "    :param clf_name: Classifier name, can be Random Forest, SVM rbf, SVM linear, kNN, Logistic Regression\n",
    "    :param data_train: train data\n",
    "    :param data_test: test data\n",
    "    :param target_train: target train data\n",
    "    :param target_test: target test data\n",
    "    \"\"\"\n",
    "    if clf_name=='Random Forest':\n",
    "        clf=RandomForestClassifier(n_estimators=100)\n",
    "\n",
    "    elif clf_name=='SVM rbf':\n",
    "        clf = svm.SVC(kernel='rbf')\n",
    "\n",
    "    elif clf_name=='kNN':\n",
    "        clf = KNeighborsClassifier()\n",
    "\n",
    "    elif clf_name=='Logistic Regression':\n",
    "        clf = LogisticRegression()\n",
    "\n",
    "    else:\n",
    "        print('Provide one of the available classifiers: Random Forest, SVM, kNN, Logistic Regression')\n",
    "        return\n",
    "    \n",
    "    cv = KFold(n_splits=10, shuffle=True, random_state=42)\n",
    "\n",
    "    nested_score = cross_val_score(clf, X=X, y=y, cv=cv, \\\n",
    "                   scoring=make_scorer(classification_report_for_cv))\n",
    "    print(\"Accuracy per class\")\n",
    "    pprint(nested_score) \n",
    "    "
   ]
  },
  {
   "cell_type": "code",
   "execution_count": 12,
   "metadata": {},
   "outputs": [],
   "source": [
    "def perform_cross_validation(clf_name, X,y, feature_selection=None):\n",
    "    sss = StratifiedShuffleSplit(n_splits=10, test_size=0.3, random_state=42)\n",
    "\n",
    "    accuracy = 0\n",
    "    precision = 0\n",
    "    recall = 0\n",
    "    f1 = 0\n",
    "    X = X.to_numpy()\n",
    "    y = y.to_numpy()\n",
    "    for train_index, test_index in sss.split(X, y):\n",
    "        X_train, X_test = X[train_index], X[test_index]\n",
    "        y_train, y_test = y[train_index], y[test_index]\n",
    "        \n",
    "        \n",
    "        if feature_selection=='pca':\n",
    "            fs = PCA(n_components=0.95).fit(X_train)\n",
    "            X_train = fs.transform(X_train)\n",
    "            X_test = fs.transform(X_test) \n",
    "        elif feature_selection=='selectKbest':\n",
    "            fs = SelectKBest(score_func=chi2, k=200).fit(X_train, y_train)\n",
    "            X_train = fs.transform(X_train)\n",
    "            X_test = fs.transform(X_test)\n",
    "\n",
    "        # X_train, X_test, y_train, y_test = train_test_split( feature_array, label_array, test_size = 0.3,stratify=label_array, random_state = 100)\n",
    "        if clf_name=='Random Forest':\n",
    "            clf=RandomForestClassifier(n_estimators=100)\n",
    "\n",
    "        elif clf_name=='SVM rbf':\n",
    "            clf = svm.SVC(kernel='rbf')\n",
    "\n",
    "        elif clf_name=='kNN':\n",
    "            clf = KNeighborsClassifier()\n",
    "\n",
    "        elif clf_name=='Logistic Regression':\n",
    "            clf = LogisticRegression()\n",
    "\n",
    "        else:\n",
    "            print('Provide one of the available classifiers: Random Forest, SVM, kNN, Logistic Regression')\n",
    "            return\n",
    "        \n",
    "        clf.fit(X_train, y_train)\n",
    "        y_pred = clf.predict(X_test)\n",
    "\n",
    "\n",
    "        accuracy += accuracy_score(y_test, y_pred)*100\n",
    "        precision += precision_score(y_test, y_pred,average='macro')*100\n",
    "        recall += recall_score(y_test, y_pred, average='macro')*100\n",
    "        f1 += f1_score(y_test, y_pred, average='macro')*100\n",
    "\n",
    "\n",
    "    print(\"Average Accuracy:\", accuracy/10)\n",
    "    print(\"Macro-Average Precision:\", precision/10)\n",
    "    print(\"Macro-Average Recall:\", recall/10)\n",
    "    print(\"Macro-Average F1 score:\", f1/10)\n"
   ]
  },
  {
   "cell_type": "markdown",
   "metadata": {},
   "source": [
    "## Classfication without feature selection/reduction"
   ]
  },
  {
   "cell_type": "code",
   "execution_count": 13,
   "metadata": {},
   "outputs": [
    {
     "name": "stdout",
     "output_type": "stream",
     "text": [
      "Classification Report\n",
      "              precision    recall  f1-score   support\n",
      "\n",
      "           0       0.95      0.95      0.95      1240\n",
      "           1       0.95      0.98      0.96      1405\n",
      "           2       0.90      0.89      0.89      1253\n",
      "           3       0.89      0.89      0.89      1305\n",
      "           4       0.92      0.92      0.92      1222\n",
      "           5       0.88      0.83      0.85      1139\n",
      "           6       0.93      0.96      0.95      1241\n",
      "           7       0.93      0.92      0.93      1320\n",
      "           8       0.85      0.85      0.85      1219\n",
      "           9       0.87      0.89      0.88      1256\n",
      "\n",
      "    accuracy                           0.91     12600\n",
      "   macro avg       0.91      0.91      0.91     12600\n",
      "weighted avg       0.91      0.91      0.91     12600\n",
      "\n",
      "Accuracy per class\n",
      "{0: 0.9540322580645161,\n",
      " 1: 0.9765124555160143,\n",
      " 2: 0.8906624102154829,\n",
      " 3: 0.8881226053639847,\n",
      " 4: 0.9165302782324058,\n",
      " 5: 0.8331870061457419,\n",
      " 6: 0.9572925060435133,\n",
      " 7: 0.921969696969697,\n",
      " 8: 0.8515176374077112,\n",
      " 9: 0.8853503184713376}\n"
     ]
    },
    {
     "data": {
      "image/png": "[encoded data removed]",
      "text/plain": [
       "<Figure size 720x504 with 2 Axes>"
      ]
     },
     "metadata": {
      "needs_background": "light"
     },
     "output_type": "display_data"
    }
   ],
   "source": [
    "perform_classification('Logistic Regression', X_train, X_test, y_train, y_test)"
   ]
  },
  {
   "cell_type": "code",
   "execution_count": null,
   "metadata": {},
   "outputs": [],
   "source": [
    "perform_cross_validation('Logistic Regression', df_x, df_y)"
   ]
  },
  {
   "cell_type": "code",
   "execution_count": null,
   "metadata": {},
   "outputs": [],
   "source": [
    "perform_classification('kNN', X_train, X_test, y_train, y_test)"
   ]
  },
  {
   "cell_type": "code",
   "execution_count": null,
   "metadata": {},
   "outputs": [],
   "source": [
    "perform_cross_validation('kNN', df_x, df_y)"
   ]
  },
  {
   "cell_type": "code",
   "execution_count": null,
   "metadata": {},
   "outputs": [],
   "source": [
    "perform_classification('SVM rbf', X_train, X_test, y_train, y_test)"
   ]
  },
  {
   "cell_type": "code",
   "execution_count": null,
   "metadata": {},
   "outputs": [],
   "source": [
    "perform_cross_validation('SVM rbf', df_x, df_y)"
   ]
  },
  {
   "cell_type": "code",
   "execution_count": null,
   "metadata": {},
   "outputs": [],
   "source": [
    "perform_classification('Random Forest', X_train, X_test, y_train, y_test)"
   ]
  },
  {
   "cell_type": "code",
   "execution_count": null,
   "metadata": {},
   "outputs": [],
   "source": [
    "perform_cross_validation('Random Forest', df_x, df_y)"
   ]
  },
  {
   "cell_type": "markdown",
   "metadata": {},
   "source": [
    "### PCA"
   ]
  },
  {
   "cell_type": "code",
   "execution_count": null,
   "metadata": {},
   "outputs": [],
   "source": [
    "# feature extraction\n",
    "# n_components=100\n",
    "# scaler = MinMaxScaler()\n",
    "# X_train_rescaled = scaler.fit_transform(X_train)\n",
    "pca = PCA(n_components = 0.95)\n",
    "pca.fit(X_train)\n",
    "\n",
    "# fig, ax = plt.subplots()\n",
    "\n",
    "# plt.xlim(0.0,800.0)\n",
    "# plt.ylim(0.0,1.1)\n",
    "\n",
    "# plt.xlabel('number of components')\n",
    "# plt.ylabel('cumulative explained variance')\n",
    "# ax.plot(np.cumsum(pca.explained_variance_ratio_), color='b')\n",
    "# ax.axhline(y=0.95, color='r', linestyle='dotted')\n",
    "# ax.text(100, 0.85, '95% cut-off threshold', color = 'red', fontsize=16)\n",
    "\n",
    "\n",
    "X_train_new = pca.transform(X_train)\n",
    "X_test_new = pca.transform(X_test)\n",
    "print(X_train_new.shape)\n",
    "print(X_test_new.shape)"
   ]
  },
  {
   "cell_type": "code",
   "execution_count": null,
   "metadata": {},
   "outputs": [],
   "source": [
    "# scaler = MinMaxScaler()\n",
    "# scaler.fit_transform(X_train)\n",
    "# pca = PCA().fit(X_train_rescaled)\n",
    "pca = PCA().fit(X_train)\n",
    "\n",
    "\n",
    "# plt.rcParams[\"figure.figsize\"] = (12,6)\n",
    "\n",
    "fig, ax = plt.subplots()\n",
    "xi = np.arange(1, 785, step=1)\n",
    "y = np.cumsum(pca.explained_variance_ratio_)\n",
    "\n",
    "plt.ylim(0.0,1.1)\n",
    "plt.plot(xi, y, color='b')\n",
    "\n",
    "plt.xlabel('Number of Components')\n",
    "plt.xticks(np.arange(0, 785, step=50)) #change from 0-based array index to 1-based human-readable label\n",
    "plt.ylabel('Cumulative variance (%)')\n",
    "plt.title('The number of components needed to explain variance')\n",
    "\n",
    "plt.axhline(y=0.95, color='r', linestyle='dotted')\n",
    "plt.text(300, 0.85, '95% cut-off threshold', color = 'red', fontsize=12)\n",
    "\n",
    "ax.grid()\n",
    "plt.show()"
   ]
  },
  {
   "cell_type": "markdown",
   "metadata": {},
   "source": [
    "### Classification"
   ]
  },
  {
   "cell_type": "code",
   "execution_count": null,
   "metadata": {},
   "outputs": [],
   "source": [
    "# perform_cross_validation('Logistic Regression', df_x, df_y,  'pca')"
   ]
  },
  {
   "cell_type": "code",
   "execution_count": null,
   "metadata": {},
   "outputs": [],
   "source": [
    "perform_classification('Logistic Regression', X_train_new, X_test_new, y_train, y_test)"
   ]
  },
  {
   "cell_type": "code",
   "execution_count": null,
   "metadata": {
    "pycharm": {
     "name": "#%%\n"
    }
   },
   "outputs": [],
   "source": [
    "perform_classification('kNN', X_train_new, X_test_new, y_train, y_test)"
   ]
  },
  {
   "cell_type": "code",
   "execution_count": null,
   "metadata": {
    "pycharm": {
     "name": "#%%\n"
    }
   },
   "outputs": [],
   "source": [
    "perform_classification('SVM rbf', X_train_new, X_test_new, y_train, y_test)"
   ]
  },
  {
   "cell_type": "code",
   "execution_count": null,
   "metadata": {
    "pycharm": {
     "name": "#%%\n"
    }
   },
   "outputs": [],
   "source": [
    "perform_classification('Random Forest', X_train_new, X_test_new, y_train, y_test)"
   ]
  },
  {
   "cell_type": "markdown",
   "metadata": {},
   "source": [
    "### Classification with grid search"
   ]
  },
  {
   "cell_type": "code",
   "execution_count": null,
   "metadata": {
    "pycharm": {
     "name": "#%%\n"
    }
   },
   "outputs": [],
   "source": [
    "# perform_classification_with_grid_search('Random Forest', X_train_new, X_test_new, y_train, y_test)\n",
    "# perform_classification_with_grid_search('kNN', X_train_new, X_test_new, y_train, y_test)\n",
    "# perform_classification_with_grid_search('SVM', X_train_new, X_test_new, y_train, y_test)\n",
    "# perform_classification_with_grid_search('Logistic Regression', X_train_new, X_test_new, y_train, y_test)"
   ]
  },
  {
   "cell_type": "markdown",
   "metadata": {},
   "source": [
    "### Feature Selection"
   ]
  },
  {
   "cell_type": "code",
   "execution_count": null,
   "metadata": {
    "pycharm": {
     "name": "#%%\n"
    }
   },
   "outputs": [],
   "source": [
    "best_features = SelectKBest(score_func=chi2, k=200)\n",
    "fit = best_features.fit(X_train, y_train)\n",
    "X_train_new = fit.transform(X_train)\n",
    "X_test_new = fit.transform(X_test)"
   ]
  },
  {
   "cell_type": "code",
   "execution_count": null,
   "metadata": {},
   "outputs": [],
   "source": [
    "perform_classification('Logistic Regression', X_train_new, X_test_new, y_train, y_test)"
   ]
  },
  {
   "cell_type": "code",
   "execution_count": null,
   "metadata": {},
   "outputs": [],
   "source": [
    "perform_cross_validation('Logistic Regression', df_x, df_y,'selectKbest')"
   ]
  },
  {
   "cell_type": "code",
   "execution_count": null,
   "metadata": {
    "pycharm": {
     "name": "#%%\n"
    }
   },
   "outputs": [],
   "source": [
    "perform_classification('kNN', X_train_new, X_test_new, y_train, y_test)"
   ]
  },
  {
   "cell_type": "code",
   "execution_count": null,
   "metadata": {},
   "outputs": [],
   "source": [
    "perform_cross_validation('kNN', df_x, df_y,'selectKbest')"
   ]
  },
  {
   "cell_type": "code",
   "execution_count": null,
   "metadata": {
    "pycharm": {
     "name": "#%%\n"
    }
   },
   "outputs": [],
   "source": [
    "perform_classification('SVM rbf', X_train_new, X_test_new, y_train, y_test)"
   ]
  },
  {
   "cell_type": "code",
   "execution_count": null,
   "metadata": {},
   "outputs": [],
   "source": [
    "perform_cross_validation('SVM rbf', df_x, df_y,'selectKbest')"
   ]
  },
  {
   "cell_type": "code",
   "execution_count": null,
   "metadata": {
    "pycharm": {
     "name": "#%%\n"
    }
   },
   "outputs": [],
   "source": [
    "perform_classification('Random Forest', X_train_new, X_test_new, y_train, y_test)"
   ]
  },
  {
   "cell_type": "code",
   "execution_count": null,
   "metadata": {},
   "outputs": [],
   "source": [
    "perform_cross_validation('Random Forest', df_x, df_y,'selectKbest')"
   ]
  }
 ],
 "metadata": {
  "kernelspec": {
   "display_name": "venv",
   "language": "python",
   "name": "venv"
  },
  "language_info": {
   "codemirror_mode": {
    "name": "ipython",
    "version": 3
   },
   "file_extension": ".py",
   "mimetype": "text/x-python",
   "name": "python",
   "nbconvert_exporter": "python",
   "pygments_lexer": "ipython3",
   "version": "3.8.6"
  }
 },
 "nbformat": 4,
 "nbformat_minor": 1
}
